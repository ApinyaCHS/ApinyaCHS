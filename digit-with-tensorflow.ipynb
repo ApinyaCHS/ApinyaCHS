{
 "cells": [
  {
   "cell_type": "code",
   "execution_count": 1,
   "id": "e96f2136",
   "metadata": {
    "execution": {
     "iopub.execute_input": "2023-08-09T15:41:02.117176Z",
     "iopub.status.busy": "2023-08-09T15:41:02.116703Z",
     "iopub.status.idle": "2023-08-09T15:41:14.231718Z",
     "shell.execute_reply": "2023-08-09T15:41:14.230563Z"
    },
    "papermill": {
     "duration": 12.129112,
     "end_time": "2023-08-09T15:41:14.234633",
     "exception": false,
     "start_time": "2023-08-09T15:41:02.105521",
     "status": "completed"
    },
    "tags": []
   },
   "outputs": [
    {
     "name": "stderr",
     "output_type": "stream",
     "text": [
      "/opt/conda/lib/python3.10/site-packages/scipy/__init__.py:146: UserWarning: A NumPy version >=1.16.5 and <1.23.0 is required for this version of SciPy (detected version 1.23.5\n",
      "  warnings.warn(f\"A NumPy version >={np_minversion} and <{np_maxversion}\"\n",
      "/opt/conda/lib/python3.10/site-packages/tensorflow_io/python/ops/__init__.py:98: UserWarning: unable to load libtensorflow_io_plugins.so: unable to open file: libtensorflow_io_plugins.so, from paths: ['/opt/conda/lib/python3.10/site-packages/tensorflow_io/python/ops/libtensorflow_io_plugins.so']\n",
      "caused by: ['/opt/conda/lib/python3.10/site-packages/tensorflow_io/python/ops/libtensorflow_io_plugins.so: undefined symbol: _ZN3tsl6StatusC1EN10tensorflow5error4CodeESt17basic_string_viewIcSt11char_traitsIcEENS_14SourceLocationE']\n",
      "  warnings.warn(f\"unable to load libtensorflow_io_plugins.so: {e}\")\n",
      "/opt/conda/lib/python3.10/site-packages/tensorflow_io/python/ops/__init__.py:104: UserWarning: file system plugins are not loaded: unable to open file: libtensorflow_io.so, from paths: ['/opt/conda/lib/python3.10/site-packages/tensorflow_io/python/ops/libtensorflow_io.so']\n",
      "caused by: ['/opt/conda/lib/python3.10/site-packages/tensorflow_io/python/ops/libtensorflow_io.so: undefined symbol: _ZTVN10tensorflow13GcsFileSystemE']\n",
      "  warnings.warn(f\"file system plugins are not loaded: {e}\")\n"
     ]
    }
   ],
   "source": [
    "import tensorflow as tf\n",
    "import numpy as np\n",
    "import pandas as pd\n",
    "import matplotlib.pyplot as plt\n",
    "from sklearn.model_selection import train_test_split"
   ]
  },
  {
   "cell_type": "markdown",
   "id": "f5cd95e1",
   "metadata": {
    "papermill": {
     "duration": 0.007992,
     "end_time": "2023-08-09T15:41:14.251618",
     "exception": false,
     "start_time": "2023-08-09T15:41:14.243626",
     "status": "completed"
    },
    "tags": []
   },
   "source": [
    "# Load Data"
   ]
  },
  {
   "cell_type": "code",
   "execution_count": 2,
   "id": "97c1d77b",
   "metadata": {
    "execution": {
     "iopub.execute_input": "2023-08-09T15:41:14.270951Z",
     "iopub.status.busy": "2023-08-09T15:41:14.269872Z",
     "iopub.status.idle": "2023-08-09T15:41:21.841799Z",
     "shell.execute_reply": "2023-08-09T15:41:21.840200Z"
    },
    "papermill": {
     "duration": 7.585373,
     "end_time": "2023-08-09T15:41:21.845179",
     "exception": false,
     "start_time": "2023-08-09T15:41:14.259806",
     "status": "completed"
    },
    "tags": []
   },
   "outputs": [],
   "source": [
    "data = pd.read_csv(\"/kaggle/input/digit-recognizer/train.csv\")\n",
    "test_digit = pd.read_csv(\"/kaggle/input/digit-recognizer/test.csv\")\n",
    "sample = pd.read_csv(\"/kaggle/input/digit-recognizer/sample_submission.csv\")"
   ]
  },
  {
   "cell_type": "code",
   "execution_count": 3,
   "id": "0212601e",
   "metadata": {
    "execution": {
     "iopub.execute_input": "2023-08-09T15:41:21.866859Z",
     "iopub.status.busy": "2023-08-09T15:41:21.866390Z",
     "iopub.status.idle": "2023-08-09T15:41:21.878623Z",
     "shell.execute_reply": "2023-08-09T15:41:21.876900Z"
    },
    "papermill": {
     "duration": 0.026553,
     "end_time": "2023-08-09T15:41:21.881674",
     "exception": false,
     "start_time": "2023-08-09T15:41:21.855121",
     "status": "completed"
    },
    "tags": []
   },
   "outputs": [
    {
     "name": "stdout",
     "output_type": "stream",
     "text": [
      "<class 'pandas.core.series.Series'>\n"
     ]
    }
   ],
   "source": [
    "y = data[\"label\"]\n",
    "print(type(y))"
   ]
  },
  {
   "cell_type": "code",
   "execution_count": 4,
   "id": "30945da9",
   "metadata": {
    "execution": {
     "iopub.execute_input": "2023-08-09T15:41:21.903777Z",
     "iopub.status.busy": "2023-08-09T15:41:21.902791Z",
     "iopub.status.idle": "2023-08-09T15:41:21.911576Z",
     "shell.execute_reply": "2023-08-09T15:41:21.909690Z"
    },
    "papermill": {
     "duration": 0.022169,
     "end_time": "2023-08-09T15:41:21.914571",
     "exception": false,
     "start_time": "2023-08-09T15:41:21.892402",
     "status": "completed"
    },
    "tags": []
   },
   "outputs": [
    {
     "name": "stdout",
     "output_type": "stream",
     "text": [
      "[1 0 1 ... 7 6 9]\n"
     ]
    }
   ],
   "source": [
    "y = y.to_numpy()\n",
    "print(y)"
   ]
  },
  {
   "cell_type": "code",
   "execution_count": 5,
   "id": "6aa4d647",
   "metadata": {
    "execution": {
     "iopub.execute_input": "2023-08-09T15:41:21.934592Z",
     "iopub.status.busy": "2023-08-09T15:41:21.934154Z",
     "iopub.status.idle": "2023-08-09T15:41:22.113487Z",
     "shell.execute_reply": "2023-08-09T15:41:22.112124Z"
    },
    "papermill": {
     "duration": 0.193055,
     "end_time": "2023-08-09T15:41:22.116735",
     "exception": false,
     "start_time": "2023-08-09T15:41:21.923680",
     "status": "completed"
    },
    "tags": []
   },
   "outputs": [],
   "source": [
    "X = data.drop(columns=['label'])\n",
    "X = X.to_numpy()"
   ]
  },
  {
   "cell_type": "code",
   "execution_count": 6,
   "id": "ad667c6c",
   "metadata": {
    "execution": {
     "iopub.execute_input": "2023-08-09T15:41:22.138559Z",
     "iopub.status.busy": "2023-08-09T15:41:22.137790Z",
     "iopub.status.idle": "2023-08-09T15:41:22.501456Z",
     "shell.execute_reply": "2023-08-09T15:41:22.499743Z"
    },
    "papermill": {
     "duration": 0.378613,
     "end_time": "2023-08-09T15:41:22.504415",
     "exception": false,
     "start_time": "2023-08-09T15:41:22.125802",
     "status": "completed"
    },
    "tags": []
   },
   "outputs": [
    {
     "name": "stdout",
     "output_type": "stream",
     "text": [
      "[  0   0   0   0   0   0   0   0   0   0   0   0   0   0   0   0   0   0\n",
      "   0   0   0   0   0   0   0   0   0   0   0   0   0   0   0   0   0   0\n",
      "   0   0   0   0   0   0   0   0   0   0   0   0   0   0   0   0   0   0\n",
      "   0   0   0   0   0   0   0   0   0   0   0   0   0   0   0   0   0   0\n",
      "   0   0   0   0   0   0   0   0   0   0   0   0   0   0   0   0   0   0\n",
      "   0   0   0   0   0   0   0   0   0   0   0   0   0   0   0   0   0   0\n",
      "   0   0   0   0   0   0   0   0   0   0   0   0   0   0  18  30 137 137\n",
      " 192  86  72   1   0   0   0   0   0   0   0   0   0   0   0   0   0   0\n",
      "   0   0   0   0  13  86 250 254 254 254 254 217 246 151  32   0   0   0\n",
      "   0   0   0   0   0   0   0   0   0   0   0   0   0  16 179 254 254 254\n",
      " 254 254 254 254 254 254 231  54  15   0   0   0   0   0   0   0   0   0\n",
      "   0   0   0   0   0  72 254 254 254 254 254 254 254 254 254 254 254 254\n",
      " 104   0   0   0   0   0   0   0   0   0   0   0   0   0  61 191 254 254\n",
      " 254 254 254 109  83 199 254 254 254 254 243  85   0   0   0   0   0   0\n",
      "   0   0   0   0   0   0 172 254 254 254 202 147 147  45   0  11  29 200\n",
      " 254 254 254 171   0   0   0   0   0   0   0   0   0   0   0   1 174 254\n",
      " 254  89  67   0   0   0   0   0   0 128 252 254 254 212  76   0   0   0\n",
      "   0   0   0   0   0   0   0  47 254 254 254  29   0   0   0   0   0   0\n",
      "   0   0  83 254 254 254 153   0   0   0   0   0   0   0   0   0   0  80\n",
      " 254 254 240  24   0   0   0   0   0   0   0   0  25 240 254 254 153   0\n",
      "   0   0   0   0   0   0   0   0   0  64 254 254 186   7   0   0   0   0\n",
      "   0   0   0   0   0 166 254 254 224  12   0   0   0   0   0   0   0   0\n",
      "  14 232 254 254 254  29   0   0   0   0   0   0   0   0   0  75 254 254\n",
      " 254  17   0   0   0   0   0   0   0   0  18 254 254 254 254  29   0   0\n",
      "   0   0   0   0   0   0   0  48 254 254 254  17   0   0   0   0   0   0\n",
      "   0   0   2 163 254 254 254  29   0   0   0   0   0   0   0   0   0  48\n",
      " 254 254 254  17   0   0   0   0   0   0   0   0   0  94 254 254 254 200\n",
      "  12   0   0   0   0   0   0   0  16 209 254 254 150   1   0   0   0   0\n",
      "   0   0   0   0   0  15 206 254 254 254 202  66   0   0   0   0   0  21\n",
      " 161 254 254 245  31   0   0   0   0   0   0   0   0   0   0   0  60 212\n",
      " 254 254 254 194  48  48  34  41  48 209 254 254 254 171   0   0   0   0\n",
      "   0   0   0   0   0   0   0   0   0  86 243 254 254 254 254 254 233 243\n",
      " 254 254 254 254 254  86   0   0   0   0   0   0   0   0   0   0   0   0\n",
      "   0   0 114 254 254 254 254 254 254 254 254 254 254 239  86  11   0   0\n",
      "   0   0   0   0   0   0   0   0   0   0   0   0  13 182 254 254 254 254\n",
      " 254 254 254 254 243  70   0   0   0   0   0   0   0   0   0   0   0   0\n",
      "   0   0   0   0   0   8  76 146 254 255 254 255 146  19  15   0   0   0\n",
      "   0   0   0   0   0   0   0   0   0   0   0   0   0   0   0   0   0   0\n",
      "   0   0   0   0   0   0   0   0   0   0   0   0   0   0   0   0   0   0\n",
      "   0   0   0   0   0   0   0   0   0   0   0   0   0   0   0   0   0   0\n",
      "   0   0   0   0   0   0   0   0   0   0   0   0   0   0   0   0   0   0\n",
      "   0   0   0   0   0   0   0   0   0   0   0   0   0   0   0   0   0   0\n",
      "   0   0   0   0   0   0   0   0   0   0   0   0   0   0   0   0   0   0\n",
      "   0   0   0   0   0   0   0   0   0   0]\n",
      "AxesImage(size=(28, 28))\n"
     ]
    },
    {
     "data": {
      "image/png": "[encoded data removed]",
      "text/plain": [
       "<Figure size 640x480 with 1 Axes>"
      ]
     },
     "metadata": {},
     "output_type": "display_data"
    }
   ],
   "source": [
    "print(X[1])\n",
    "print(plt.imshow(X[1].reshape(28,28,1)))"
   ]
  },
  {
   "cell_type": "code",
   "execution_count": 7,
   "id": "74d1e95b",
   "metadata": {
    "execution": {
     "iopub.execute_input": "2023-08-09T15:41:22.526452Z",
     "iopub.status.busy": "2023-08-09T15:41:22.524722Z",
     "iopub.status.idle": "2023-08-09T15:41:22.533390Z",
     "shell.execute_reply": "2023-08-09T15:41:22.532036Z"
    },
    "papermill": {
     "duration": 0.021965,
     "end_time": "2023-08-09T15:41:22.535980",
     "exception": false,
     "start_time": "2023-08-09T15:41:22.514015",
     "status": "completed"
    },
    "tags": []
   },
   "outputs": [
    {
     "data": {
      "text/plain": [
       "(42000, 784)"
      ]
     },
     "execution_count": 7,
     "metadata": {},
     "output_type": "execute_result"
    }
   ],
   "source": [
    "X.shape"
   ]
  },
  {
   "cell_type": "markdown",
   "id": "04409d8c",
   "metadata": {
    "papermill": {
     "duration": 0.00893,
     "end_time": "2023-08-09T15:41:22.554221",
     "exception": false,
     "start_time": "2023-08-09T15:41:22.545291",
     "status": "completed"
    },
    "tags": []
   },
   "source": [
    "# Normalize the pixel value"
   ]
  },
  {
   "cell_type": "code",
   "execution_count": 8,
   "id": "eba3bac5",
   "metadata": {
    "execution": {
     "iopub.execute_input": "2023-08-09T15:41:22.575100Z",
     "iopub.status.busy": "2023-08-09T15:41:22.574600Z",
     "iopub.status.idle": "2023-08-09T15:41:22.793555Z",
     "shell.execute_reply": "2023-08-09T15:41:22.792019Z"
    },
    "papermill": {
     "duration": 0.233262,
     "end_time": "2023-08-09T15:41:22.796587",
     "exception": false,
     "start_time": "2023-08-09T15:41:22.563325",
     "status": "completed"
    },
    "tags": []
   },
   "outputs": [],
   "source": [
    "X = X/255.0"
   ]
  },
  {
   "cell_type": "code",
   "execution_count": 9,
   "id": "00efd86f",
   "metadata": {
    "execution": {
     "iopub.execute_input": "2023-08-09T15:41:22.817592Z",
     "iopub.status.busy": "2023-08-09T15:41:22.817134Z",
     "iopub.status.idle": "2023-08-09T15:41:22.824860Z",
     "shell.execute_reply": "2023-08-09T15:41:22.823560Z"
    },
    "papermill": {
     "duration": 0.02148,
     "end_time": "2023-08-09T15:41:22.827842",
     "exception": false,
     "start_time": "2023-08-09T15:41:22.806362",
     "status": "completed"
    },
    "tags": []
   },
   "outputs": [
    {
     "data": {
      "text/plain": [
       "(42000, 784)"
      ]
     },
     "execution_count": 9,
     "metadata": {},
     "output_type": "execute_result"
    }
   ],
   "source": [
    "X.shape"
   ]
  },
  {
   "cell_type": "markdown",
   "id": "4ae69d7a",
   "metadata": {
    "papermill": {
     "duration": 0.00945,
     "end_time": "2023-08-09T15:41:22.847011",
     "exception": false,
     "start_time": "2023-08-09T15:41:22.837561",
     "status": "completed"
    },
    "tags": []
   },
   "source": [
    "# Tranform to (28,28,1)"
   ]
  },
  {
   "cell_type": "code",
   "execution_count": 10,
   "id": "29b8e0ad",
   "metadata": {
    "execution": {
     "iopub.execute_input": "2023-08-09T15:41:22.868522Z",
     "iopub.status.busy": "2023-08-09T15:41:22.868086Z",
     "iopub.status.idle": "2023-08-09T15:41:22.875943Z",
     "shell.execute_reply": "2023-08-09T15:41:22.874432Z"
    },
    "papermill": {
     "duration": 0.021788,
     "end_time": "2023-08-09T15:41:22.878624",
     "exception": false,
     "start_time": "2023-08-09T15:41:22.856836",
     "status": "completed"
    },
    "tags": []
   },
   "outputs": [],
   "source": [
    "def tranform(x):\n",
    "    x_reshape = []\n",
    "    for e in x:\n",
    "        x_reshape.append(e.reshape(28,28,1))\n",
    "    x_reshape = np.array(x_reshape)\n",
    "    return x_reshape"
   ]
  },
  {
   "cell_type": "code",
   "execution_count": 11,
   "id": "aeb05d62",
   "metadata": {
    "execution": {
     "iopub.execute_input": "2023-08-09T15:41:22.900188Z",
     "iopub.status.busy": "2023-08-09T15:41:22.899718Z",
     "iopub.status.idle": "2023-08-09T15:41:23.160561Z",
     "shell.execute_reply": "2023-08-09T15:41:23.158937Z"
    },
    "papermill": {
     "duration": 0.275165,
     "end_time": "2023-08-09T15:41:23.163612",
     "exception": false,
     "start_time": "2023-08-09T15:41:22.888447",
     "status": "completed"
    },
    "tags": []
   },
   "outputs": [
    {
     "name": "stdout",
     "output_type": "stream",
     "text": [
      "(42000, 28, 28, 1)\n"
     ]
    }
   ],
   "source": [
    "X = tranform(X)\n",
    "print(X.shape)"
   ]
  },
  {
   "cell_type": "code",
   "execution_count": 12,
   "id": "d8ca6bb6",
   "metadata": {
    "execution": {
     "iopub.execute_input": "2023-08-09T15:41:23.184859Z",
     "iopub.status.busy": "2023-08-09T15:41:23.184444Z",
     "iopub.status.idle": "2023-08-09T15:41:23.283889Z",
     "shell.execute_reply": "2023-08-09T15:41:23.282591Z"
    },
    "papermill": {
     "duration": 0.1133,
     "end_time": "2023-08-09T15:41:23.286851",
     "exception": false,
     "start_time": "2023-08-09T15:41:23.173551",
     "status": "completed"
    },
    "tags": []
   },
   "outputs": [],
   "source": [
    "X_train, X_valid, y_train, y_valid = train_test_split(X, y, test_size=0.33, random_state=42)"
   ]
  },
  {
   "cell_type": "code",
   "execution_count": 13,
   "id": "f5997310",
   "metadata": {
    "execution": {
     "iopub.execute_input": "2023-08-09T15:41:23.307665Z",
     "iopub.status.busy": "2023-08-09T15:41:23.307255Z",
     "iopub.status.idle": "2023-08-09T15:41:23.315023Z",
     "shell.execute_reply": "2023-08-09T15:41:23.313454Z"
    },
    "papermill": {
     "duration": 0.021445,
     "end_time": "2023-08-09T15:41:23.317805",
     "exception": false,
     "start_time": "2023-08-09T15:41:23.296360",
     "status": "completed"
    },
    "tags": []
   },
   "outputs": [],
   "source": [
    "class myCallback(tf.keras.callbacks.Callback):\n",
    "  def on_epoch_end(self, epoch, logs={}):\n",
    "    if(logs.get('accuracy')== 1.00):\n",
    "      print(\"\\nReached 100% accuracy so cancelling training!\")\n",
    "      self.model.stop_training = True\n",
    "\n",
    "callbacks = myCallback()"
   ]
  },
  {
   "cell_type": "code",
   "execution_count": 14,
   "id": "0b61602c",
   "metadata": {
    "execution": {
     "iopub.execute_input": "2023-08-09T15:41:23.339730Z",
     "iopub.status.busy": "2023-08-09T15:41:23.339315Z",
     "iopub.status.idle": "2023-08-09T15:41:23.853312Z",
     "shell.execute_reply": "2023-08-09T15:41:23.851954Z"
    },
    "papermill": {
     "duration": 0.528914,
     "end_time": "2023-08-09T15:41:23.856552",
     "exception": false,
     "start_time": "2023-08-09T15:41:23.327638",
     "status": "completed"
    },
    "tags": []
   },
   "outputs": [],
   "source": [
    "# Define the model\n",
    "model = tf.keras.models.Sequential([\n",
    "                                                         \n",
    "  # Add convolutions and max pooling\n",
    "  tf.keras.layers.Conv2D(32, (3,3), activation='relu', input_shape=(28, 28, 1)),\n",
    "  tf.keras.layers.MaxPooling2D(2, 2),\n",
    "  tf.keras.layers.Conv2D(32, (3,3), activation='relu'),\n",
    "  tf.keras.layers.MaxPooling2D(2,2),\n",
    "\n",
    "  # Add the same layers as before\n",
    "  tf.keras.layers.Flatten(),\n",
    "  tf.keras.layers.Dense(128, activation='relu'),\n",
    "  tf.keras.layers.Dense(10, activation='softmax')\n",
    "])"
   ]
  },
  {
   "cell_type": "code",
   "execution_count": 15,
   "id": "369a5b99",
   "metadata": {
    "execution": {
     "iopub.execute_input": "2023-08-09T15:41:23.877988Z",
     "iopub.status.busy": "2023-08-09T15:41:23.877567Z",
     "iopub.status.idle": "2023-08-09T15:41:23.920001Z",
     "shell.execute_reply": "2023-08-09T15:41:23.918857Z"
    },
    "papermill": {
     "duration": 0.061707,
     "end_time": "2023-08-09T15:41:23.927938",
     "exception": false,
     "start_time": "2023-08-09T15:41:23.866231",
     "status": "completed"
    },
    "tags": []
   },
   "outputs": [
    {
     "name": "stdout",
     "output_type": "stream",
     "text": [
      "Model: \"sequential\"\n",
      "_________________________________________________________________\n",
      " Layer (type)                Output Shape              Param #   \n",
      "=================================================================\n",
      " conv2d (Conv2D)             (None, 26, 26, 32)        320       \n",
      "                                                                 \n",
      " max_pooling2d (MaxPooling2D  (None, 13, 13, 32)       0         \n",
      " )                                                               \n",
      "                                                                 \n",
      " conv2d_1 (Conv2D)           (None, 11, 11, 32)        9248      \n",
      "                                                                 \n",
      " max_pooling2d_1 (MaxPooling  (None, 5, 5, 32)         0         \n",
      " 2D)                                                             \n",
      "                                                                 \n",
      " flatten (Flatten)           (None, 800)               0         \n",
      "                                                                 \n",
      " dense (Dense)               (None, 128)               102528    \n",
      "                                                                 \n",
      " dense_1 (Dense)             (None, 10)                1290      \n",
      "                                                                 \n",
      "=================================================================\n",
      "Total params: 113,386\n",
      "Trainable params: 113,386\n",
      "Non-trainable params: 0\n",
      "_________________________________________________________________\n"
     ]
    }
   ],
   "source": [
    "# Print the model summary\n",
    "model.summary()"
   ]
  },
  {
   "cell_type": "code",
   "execution_count": 16,
   "id": "5bedae56",
   "metadata": {
    "execution": {
     "iopub.execute_input": "2023-08-09T15:41:23.952953Z",
     "iopub.status.busy": "2023-08-09T15:41:23.952555Z",
     "iopub.status.idle": "2023-08-09T15:41:23.976176Z",
     "shell.execute_reply": "2023-08-09T15:41:23.975003Z"
    },
    "papermill": {
     "duration": 0.039667,
     "end_time": "2023-08-09T15:41:23.979109",
     "exception": false,
     "start_time": "2023-08-09T15:41:23.939442",
     "status": "completed"
    },
    "tags": []
   },
   "outputs": [],
   "source": [
    "# Use same settings\n",
    "model.compile(optimizer='adam', loss='sparse_categorical_crossentropy', metrics=['accuracy'])"
   ]
  },
  {
   "cell_type": "code",
   "execution_count": 17,
   "id": "21d277e3",
   "metadata": {
    "execution": {
     "iopub.execute_input": "2023-08-09T15:41:24.004058Z",
     "iopub.status.busy": "2023-08-09T15:41:24.003622Z",
     "iopub.status.idle": "2023-08-09T15:44:47.413226Z",
     "shell.execute_reply": "2023-08-09T15:44:47.411923Z"
    },
    "papermill": {
     "duration": 203.724406,
     "end_time": "2023-08-09T15:44:47.714953",
     "exception": false,
     "start_time": "2023-08-09T15:41:23.990547",
     "status": "completed"
    },
    "tags": []
   },
   "outputs": [
    {
     "name": "stdout",
     "output_type": "stream",
     "text": [
      "\n",
      "MODEL TRAINING:\n",
      "Epoch 1/10\n",
      "880/880 [==============================] - 18s 19ms/step - loss: 0.2349 - accuracy: 0.9298\n",
      "Epoch 2/10\n",
      "880/880 [==============================] - 16s 18ms/step - loss: 0.0723 - accuracy: 0.9774\n",
      "Epoch 3/10\n",
      "880/880 [==============================] - 16s 18ms/step - loss: 0.0481 - accuracy: 0.9840\n",
      "Epoch 4/10\n",
      "880/880 [==============================] - 16s 18ms/step - loss: 0.0359 - accuracy: 0.9882\n",
      "Epoch 5/10\n",
      "880/880 [==============================] - 16s 18ms/step - loss: 0.0280 - accuracy: 0.9904\n",
      "Epoch 6/10\n",
      "880/880 [==============================] - 16s 18ms/step - loss: 0.0206 - accuracy: 0.9935\n",
      "Epoch 7/10\n",
      "880/880 [==============================] - 16s 18ms/step - loss: 0.0180 - accuracy: 0.9937\n",
      "Epoch 8/10\n",
      "880/880 [==============================] - 16s 18ms/step - loss: 0.0134 - accuracy: 0.9955\n",
      "Epoch 9/10\n",
      "880/880 [==============================] - 16s 18ms/step - loss: 0.0117 - accuracy: 0.9961\n",
      "Epoch 10/10\n",
      "880/880 [==============================] - 16s 18ms/step - loss: 0.0088 - accuracy: 0.9969\n"
     ]
    },
    {
     "data": {
      "text/plain": [
       "<keras.callbacks.History at 0x7ea3cb33b1f0>"
      ]
     },
     "execution_count": 17,
     "metadata": {},
     "output_type": "execute_result"
    }
   ],
   "source": [
    "# Train the model\n",
    "print(f'\\nMODEL TRAINING:')\n",
    "model.fit(X_train, y_train, epochs=10, callbacks=[callbacks])"
   ]
  },
  {
   "cell_type": "code",
   "execution_count": 18,
   "id": "25c8099e",
   "metadata": {
    "execution": {
     "iopub.execute_input": "2023-08-09T15:44:48.266357Z",
     "iopub.status.busy": "2023-08-09T15:44:48.264763Z",
     "iopub.status.idle": "2023-08-09T15:44:53.686556Z",
     "shell.execute_reply": "2023-08-09T15:44:53.685476Z"
    },
    "papermill": {
     "duration": 5.699632,
     "end_time": "2023-08-09T15:44:53.689417",
     "exception": false,
     "start_time": "2023-08-09T15:44:47.989785",
     "status": "completed"
    },
    "tags": []
   },
   "outputs": [
    {
     "name": "stdout",
     "output_type": "stream",
     "text": [
      "434/434 [==============================] - 3s 6ms/step - loss: 0.0475 - accuracy: 0.9882\n"
     ]
    },
    {
     "data": {
      "text/plain": [
       "[0.04750846326351166, 0.9882395267486572]"
      ]
     },
     "execution_count": 18,
     "metadata": {},
     "output_type": "execute_result"
    }
   ],
   "source": [
    "model.evaluate(X_valid, y_valid)"
   ]
  },
  {
   "cell_type": "code",
   "execution_count": 19,
   "id": "784b8281",
   "metadata": {
    "execution": {
     "iopub.execute_input": "2023-08-09T15:44:54.263009Z",
     "iopub.status.busy": "2023-08-09T15:44:54.262546Z",
     "iopub.status.idle": "2023-08-09T15:45:00.131620Z",
     "shell.execute_reply": "2023-08-09T15:45:00.130271Z"
    },
    "papermill": {
     "duration": 6.158926,
     "end_time": "2023-08-09T15:45:00.134876",
     "exception": false,
     "start_time": "2023-08-09T15:44:53.975950",
     "status": "completed"
    },
    "tags": []
   },
   "outputs": [
    {
     "name": "stdout",
     "output_type": "stream",
     "text": [
      "875/875 [==============================] - 5s 6ms/step\n"
     ]
    }
   ],
   "source": [
    "test_digit = tranform(test_digit.to_numpy())\n",
    "prediction_digit = model.predict(test_digit)"
   ]
  },
  {
   "cell_type": "code",
   "execution_count": 20,
   "id": "059cf261",
   "metadata": {
    "execution": {
     "iopub.execute_input": "2023-08-09T15:45:00.791199Z",
     "iopub.status.busy": "2023-08-09T15:45:00.789823Z",
     "iopub.status.idle": "2023-08-09T15:45:00.914899Z",
     "shell.execute_reply": "2023-08-09T15:45:00.913841Z"
    },
    "papermill": {
     "duration": 0.418198,
     "end_time": "2023-08-09T15:45:00.917617",
     "exception": false,
     "start_time": "2023-08-09T15:45:00.499419",
     "status": "completed"
    },
    "tags": []
   },
   "outputs": [],
   "source": [
    "pr = []\n",
    "for e in prediction_digit:\n",
    "    pr.append(np.argmax(e))"
   ]
  },
  {
   "cell_type": "code",
   "execution_count": 21,
   "id": "59d5cb7b",
   "metadata": {
    "execution": {
     "iopub.execute_input": "2023-08-09T15:45:01.495438Z",
     "iopub.status.busy": "2023-08-09T15:45:01.495008Z",
     "iopub.status.idle": "2023-08-09T15:45:01.707688Z",
     "shell.execute_reply": "2023-08-09T15:45:01.706251Z"
    },
    "papermill": {
     "duration": 0.505782,
     "end_time": "2023-08-09T15:45:01.710769",
     "exception": false,
     "start_time": "2023-08-09T15:45:01.204987",
     "status": "completed"
    },
    "tags": []
   },
   "outputs": [
    {
     "name": "stdout",
     "output_type": "stream",
     "text": [
      "Submission saved\n"
     ]
    }
   ],
   "source": [
    "submission = pd.DataFrame({\"ImageId\": sample[\"ImageId\"] ,\"Label\": pr})\n",
    "\n",
    "submission.to_csv('/kaggle/working/submission.csv', index=False)\n",
    "\n",
    "print(\"Submission saved\")"
   ]
  },
  {
   "cell_type": "code",
   "execution_count": null,
   "id": "c2114cf6",
   "metadata": {
    "papermill": {
     "duration": 0.287536,
     "end_time": "2023-08-09T15:45:02.287807",
     "exception": false,
     "start_time": "2023-08-09T15:45:02.000271",
     "status": "completed"
    },
    "tags": []
   },
   "outputs": [],
   "source": []
  }
 ],
 "metadata": {
  "kernelspec": {
   "display_name": "Python 3",
   "language": "python",
   "name": "python3"
  },
  "language_info": {
   "codemirror_mode": {
    "name": "ipython",
    "version": 3
   },
   "file_extension": ".py",
   "mimetype": "text/x-python",
   "name": "python",
   "nbconvert_exporter": "python",
   "pygments_lexer": "ipython3",
   "version": "3.10.12"
  },
  "papermill": {
   "default_parameters": {},
   "duration": 257.053209,
   "end_time": "2023-08-09T15:45:05.862639",
   "environment_variables": {},
   "exception": null,
   "input_path": "__notebook__.ipynb",
   "output_path": "__notebook__.ipynb",
   "parameters": {},
   "start_time": "2023-08-09T15:40:48.809430",
   "version": "2.4.0"
  }
 },
 "nbformat": 4,
 "nbformat_minor": 5
}
