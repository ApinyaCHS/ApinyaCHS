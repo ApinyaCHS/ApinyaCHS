{
 "cells": [
  {
   "cell_type": "code",
   "execution_count": 1,
   "id": "d798f4a0",
   "metadata": {
    "execution": {
     "iopub.execute_input": "2023-08-12T06:46:13.054944Z",
     "iopub.status.busy": "2023-08-12T06:46:13.054585Z",
     "iopub.status.idle": "2023-08-12T06:46:23.766371Z",
     "shell.execute_reply": "2023-08-12T06:46:23.765229Z"
    },
    "papermill": {
     "duration": 10.72209,
     "end_time": "2023-08-12T06:46:23.769019",
     "exception": false,
     "start_time": "2023-08-12T06:46:13.046929",
     "status": "completed"
    },
    "tags": []
   },
   "outputs": [
    {
     "name": "stderr",
     "output_type": "stream",
     "text": [
      "/opt/conda/lib/python3.10/site-packages/scipy/__init__.py:146: UserWarning: A NumPy version >=1.16.5 and <1.23.0 is required for this version of SciPy (detected version 1.23.5\n",
      "  warnings.warn(f\"A NumPy version >={np_minversion} and <{np_maxversion}\"\n",
      "/opt/conda/lib/python3.10/site-packages/tensorflow_io/python/ops/__init__.py:98: UserWarning: unable to load libtensorflow_io_plugins.so: unable to open file: libtensorflow_io_plugins.so, from paths: ['/opt/conda/lib/python3.10/site-packages/tensorflow_io/python/ops/libtensorflow_io_plugins.so']\n",
      "caused by: ['/opt/conda/lib/python3.10/site-packages/tensorflow_io/python/ops/libtensorflow_io_plugins.so: undefined symbol: _ZN3tsl6StatusC1EN10tensorflow5error4CodeESt17basic_string_viewIcSt11char_traitsIcEENS_14SourceLocationE']\n",
      "  warnings.warn(f\"unable to load libtensorflow_io_plugins.so: {e}\")\n",
      "/opt/conda/lib/python3.10/site-packages/tensorflow_io/python/ops/__init__.py:104: UserWarning: file system plugins are not loaded: unable to open file: libtensorflow_io.so, from paths: ['/opt/conda/lib/python3.10/site-packages/tensorflow_io/python/ops/libtensorflow_io.so']\n",
      "caused by: ['/opt/conda/lib/python3.10/site-packages/tensorflow_io/python/ops/libtensorflow_io.so: undefined symbol: _ZTVN10tensorflow13GcsFileSystemE']\n",
      "  warnings.warn(f\"file system plugins are not loaded: {e}\")\n"
     ]
    }
   ],
   "source": [
    "import numpy as np\n",
    "import pandas as pd\n",
    "import matplotlib.pyplot as plt\n",
    "from sklearn.model_selection import train_test_split\n",
    "import tensorflow as tf"
   ]
  },
  {
   "cell_type": "markdown",
   "id": "252fd3cb",
   "metadata": {
    "papermill": {
     "duration": 0.004873,
     "end_time": "2023-08-12T06:46:23.779424",
     "exception": false,
     "start_time": "2023-08-12T06:46:23.774551",
     "status": "completed"
    },
    "tags": []
   },
   "source": [
    "# Load Data"
   ]
  },
  {
   "cell_type": "code",
   "execution_count": 2,
   "id": "cfa87884",
   "metadata": {
    "execution": {
     "iopub.execute_input": "2023-08-12T06:46:23.791748Z",
     "iopub.status.busy": "2023-08-12T06:46:23.791111Z",
     "iopub.status.idle": "2023-08-12T06:46:27.784863Z",
     "shell.execute_reply": "2023-08-12T06:46:27.783571Z"
    },
    "papermill": {
     "duration": 4.002921,
     "end_time": "2023-08-12T06:46:27.787419",
     "exception": false,
     "start_time": "2023-08-12T06:46:23.784498",
     "status": "completed"
    },
    "tags": []
   },
   "outputs": [],
   "source": [
    "data = pd.read_csv(\"/kaggle/input/digit-recognizer/train.csv\")\n",
    "test_digit = pd.read_csv(\"/kaggle/input/digit-recognizer/test.csv\")\n",
    "sample = pd.read_csv(\"/kaggle/input/digit-recognizer/sample_submission.csv\")"
   ]
  },
  {
   "cell_type": "code",
   "execution_count": 3,
   "id": "80a64068",
   "metadata": {
    "execution": {
     "iopub.execute_input": "2023-08-12T06:46:27.799467Z",
     "iopub.status.busy": "2023-08-12T06:46:27.799091Z",
     "iopub.status.idle": "2023-08-12T06:46:27.808790Z",
     "shell.execute_reply": "2023-08-12T06:46:27.807797Z"
    },
    "papermill": {
     "duration": 0.018142,
     "end_time": "2023-08-12T06:46:27.811009",
     "exception": false,
     "start_time": "2023-08-12T06:46:27.792867",
     "status": "completed"
    },
    "tags": []
   },
   "outputs": [
    {
     "name": "stdout",
     "output_type": "stream",
     "text": [
      "<class 'pandas.core.series.Series'>\n"
     ]
    }
   ],
   "source": [
    "y = data[\"label\"]\n",
    "print(type(y))"
   ]
  },
  {
   "cell_type": "code",
   "execution_count": 4,
   "id": "16c97cea",
   "metadata": {
    "execution": {
     "iopub.execute_input": "2023-08-12T06:46:27.825547Z",
     "iopub.status.busy": "2023-08-12T06:46:27.824930Z",
     "iopub.status.idle": "2023-08-12T06:46:27.832415Z",
     "shell.execute_reply": "2023-08-12T06:46:27.831065Z"
    },
    "papermill": {
     "duration": 0.016443,
     "end_time": "2023-08-12T06:46:27.834524",
     "exception": false,
     "start_time": "2023-08-12T06:46:27.818081",
     "status": "completed"
    },
    "tags": []
   },
   "outputs": [
    {
     "name": "stdout",
     "output_type": "stream",
     "text": [
      "[1 0 1 ... 7 6 9]\n"
     ]
    }
   ],
   "source": [
    "y = y.to_numpy()\n",
    "print(y)"
   ]
  },
  {
   "cell_type": "code",
   "execution_count": 5,
   "id": "efd396b5",
   "metadata": {
    "execution": {
     "iopub.execute_input": "2023-08-12T06:46:27.847217Z",
     "iopub.status.busy": "2023-08-12T06:46:27.846618Z",
     "iopub.status.idle": "2023-08-12T06:46:27.907868Z",
     "shell.execute_reply": "2023-08-12T06:46:27.906551Z"
    },
    "papermill": {
     "duration": 0.070177,
     "end_time": "2023-08-12T06:46:27.910159",
     "exception": false,
     "start_time": "2023-08-12T06:46:27.839982",
     "status": "completed"
    },
    "tags": []
   },
   "outputs": [],
   "source": [
    "X = data.drop(columns=['label'])\n",
    "X = X.to_numpy()"
   ]
  },
  {
   "cell_type": "code",
   "execution_count": 6,
   "id": "8095b306",
   "metadata": {
    "execution": {
     "iopub.execute_input": "2023-08-12T06:46:27.922327Z",
     "iopub.status.busy": "2023-08-12T06:46:27.921979Z",
     "iopub.status.idle": "2023-08-12T06:46:28.155168Z",
     "shell.execute_reply": "2023-08-12T06:46:28.153390Z"
    },
    "papermill": {
     "duration": 0.242336,
     "end_time": "2023-08-12T06:46:28.157925",
     "exception": false,
     "start_time": "2023-08-12T06:46:27.915589",
     "status": "completed"
    },
    "tags": []
   },
   "outputs": [
    {
     "name": "stdout",
     "output_type": "stream",
     "text": [
      "[  0   0   0   0   0   0   0   0   0   0   0   0   0   0   0   0   0   0\n",
      "   0   0   0   0   0   0   0   0   0   0   0   0   0   0   0   0   0   0\n",
      "   0   0   0   0   0   0   0   0   0   0   0   0   0   0   0   0   0   0\n",
      "   0   0   0   0   0   0   0   0   0   0   0   0   0   0   0   0   0   0\n",
      "   0   0   0   0   0   0   0   0   0   0   0   0   0   0   0   0   0   0\n",
      "   0   0   0   0   0   0   0   0   0   0   0   0   0   0   0   0   0   0\n",
      "   0   0   0   0   0   0   0   0   0   0   0   0   0   0  18  30 137 137\n",
      " 192  86  72   1   0   0   0   0   0   0   0   0   0   0   0   0   0   0\n",
      "   0   0   0   0  13  86 250 254 254 254 254 217 246 151  32   0   0   0\n",
      "   0   0   0   0   0   0   0   0   0   0   0   0   0  16 179 254 254 254\n",
      " 254 254 254 254 254 254 231  54  15   0   0   0   0   0   0   0   0   0\n",
      "   0   0   0   0   0  72 254 254 254 254 254 254 254 254 254 254 254 254\n",
      " 104   0   0   0   0   0   0   0   0   0   0   0   0   0  61 191 254 254\n",
      " 254 254 254 109  83 199 254 254 254 254 243  85   0   0   0   0   0   0\n",
      "   0   0   0   0   0   0 172 254 254 254 202 147 147  45   0  11  29 200\n",
      " 254 254 254 171   0   0   0   0   0   0   0   0   0   0   0   1 174 254\n",
      " 254  89  67   0   0   0   0   0   0 128 252 254 254 212  76   0   0   0\n",
      "   0   0   0   0   0   0   0  47 254 254 254  29   0   0   0   0   0   0\n",
      "   0   0  83 254 254 254 153   0   0   0   0   0   0   0   0   0   0  80\n",
      " 254 254 240  24   0   0   0   0   0   0   0   0  25 240 254 254 153   0\n",
      "   0   0   0   0   0   0   0   0   0  64 254 254 186   7   0   0   0   0\n",
      "   0   0   0   0   0 166 254 254 224  12   0   0   0   0   0   0   0   0\n",
      "  14 232 254 254 254  29   0   0   0   0   0   0   0   0   0  75 254 254\n",
      " 254  17   0   0   0   0   0   0   0   0  18 254 254 254 254  29   0   0\n",
      "   0   0   0   0   0   0   0  48 254 254 254  17   0   0   0   0   0   0\n",
      "   0   0   2 163 254 254 254  29   0   0   0   0   0   0   0   0   0  48\n",
      " 254 254 254  17   0   0   0   0   0   0   0   0   0  94 254 254 254 200\n",
      "  12   0   0   0   0   0   0   0  16 209 254 254 150   1   0   0   0   0\n",
      "   0   0   0   0   0  15 206 254 254 254 202  66   0   0   0   0   0  21\n",
      " 161 254 254 245  31   0   0   0   0   0   0   0   0   0   0   0  60 212\n",
      " 254 254 254 194  48  48  34  41  48 209 254 254 254 171   0   0   0   0\n",
      "   0   0   0   0   0   0   0   0   0  86 243 254 254 254 254 254 233 243\n",
      " 254 254 254 254 254  86   0   0   0   0   0   0   0   0   0   0   0   0\n",
      "   0   0 114 254 254 254 254 254 254 254 254 254 254 239  86  11   0   0\n",
      "   0   0   0   0   0   0   0   0   0   0   0   0  13 182 254 254 254 254\n",
      " 254 254 254 254 243  70   0   0   0   0   0   0   0   0   0   0   0   0\n",
      "   0   0   0   0   0   8  76 146 254 255 254 255 146  19  15   0   0   0\n",
      "   0   0   0   0   0   0   0   0   0   0   0   0   0   0   0   0   0   0\n",
      "   0   0   0   0   0   0   0   0   0   0   0   0   0   0   0   0   0   0\n",
      "   0   0   0   0   0   0   0   0   0   0   0   0   0   0   0   0   0   0\n",
      "   0   0   0   0   0   0   0   0   0   0   0   0   0   0   0   0   0   0\n",
      "   0   0   0   0   0   0   0   0   0   0   0   0   0   0   0   0   0   0\n",
      "   0   0   0   0   0   0   0   0   0   0   0   0   0   0   0   0   0   0\n",
      "   0   0   0   0   0   0   0   0   0   0]\n",
      "AxesImage(size=(28, 28))\n"
     ]
    },
    {
     "data": {
      "image/png": "[encoded data removed]",
      "text/plain": [
       "<Figure size 640x480 with 1 Axes>"
      ]
     },
     "metadata": {},
     "output_type": "display_data"
    }
   ],
   "source": [
    "print(X[1])\n",
    "print(plt.imshow(X[1].reshape(28,28,1)))"
   ]
  },
  {
   "cell_type": "code",
   "execution_count": 7,
   "id": "f311d613",
   "metadata": {
    "execution": {
     "iopub.execute_input": "2023-08-12T06:46:28.171312Z",
     "iopub.status.busy": "2023-08-12T06:46:28.170901Z",
     "iopub.status.idle": "2023-08-12T06:46:28.178880Z",
     "shell.execute_reply": "2023-08-12T06:46:28.177875Z"
    },
    "papermill": {
     "duration": 0.016619,
     "end_time": "2023-08-12T06:46:28.180554",
     "exception": false,
     "start_time": "2023-08-12T06:46:28.163935",
     "status": "completed"
    },
    "tags": []
   },
   "outputs": [
    {
     "data": {
      "text/plain": [
       "(42000, 784)"
      ]
     },
     "execution_count": 7,
     "metadata": {},
     "output_type": "execute_result"
    }
   ],
   "source": [
    "X.shape"
   ]
  },
  {
   "cell_type": "markdown",
   "id": "b92180ad",
   "metadata": {
    "papermill": {
     "duration": 0.005454,
     "end_time": "2023-08-12T06:46:28.191652",
     "exception": false,
     "start_time": "2023-08-12T06:46:28.186198",
     "status": "completed"
    },
    "tags": []
   },
   "source": [
    "# Normalize the pixel value"
   ]
  },
  {
   "cell_type": "code",
   "execution_count": 8,
   "id": "c20c7a27",
   "metadata": {
    "execution": {
     "iopub.execute_input": "2023-08-12T06:46:28.204261Z",
     "iopub.status.busy": "2023-08-12T06:46:28.203914Z",
     "iopub.status.idle": "2023-08-12T06:46:28.281187Z",
     "shell.execute_reply": "2023-08-12T06:46:28.279616Z"
    },
    "papermill": {
     "duration": 0.086206,
     "end_time": "2023-08-12T06:46:28.283427",
     "exception": false,
     "start_time": "2023-08-12T06:46:28.197221",
     "status": "completed"
    },
    "tags": []
   },
   "outputs": [],
   "source": [
    "X = X/255.0"
   ]
  },
  {
   "cell_type": "code",
   "execution_count": 9,
   "id": "a887ecae",
   "metadata": {
    "execution": {
     "iopub.execute_input": "2023-08-12T06:46:28.297300Z",
     "iopub.status.busy": "2023-08-12T06:46:28.296965Z",
     "iopub.status.idle": "2023-08-12T06:46:28.303685Z",
     "shell.execute_reply": "2023-08-12T06:46:28.302651Z"
    },
    "papermill": {
     "duration": 0.016426,
     "end_time": "2023-08-12T06:46:28.305919",
     "exception": false,
     "start_time": "2023-08-12T06:46:28.289493",
     "status": "completed"
    },
    "tags": []
   },
   "outputs": [
    {
     "data": {
      "text/plain": [
       "(42000, 784)"
      ]
     },
     "execution_count": 9,
     "metadata": {},
     "output_type": "execute_result"
    }
   ],
   "source": [
    "X.shape"
   ]
  },
  {
   "cell_type": "markdown",
   "id": "6dee5b50",
   "metadata": {
    "papermill": {
     "duration": 0.005771,
     "end_time": "2023-08-12T06:46:28.317870",
     "exception": false,
     "start_time": "2023-08-12T06:46:28.312099",
     "status": "completed"
    },
    "tags": []
   },
   "source": [
    "# Tranform to (28,28,1)"
   ]
  },
  {
   "cell_type": "code",
   "execution_count": 10,
   "id": "94579b53",
   "metadata": {
    "execution": {
     "iopub.execute_input": "2023-08-12T06:46:28.331806Z",
     "iopub.status.busy": "2023-08-12T06:46:28.331426Z",
     "iopub.status.idle": "2023-08-12T06:46:28.337739Z",
     "shell.execute_reply": "2023-08-12T06:46:28.336088Z"
    },
    "papermill": {
     "duration": 0.016336,
     "end_time": "2023-08-12T06:46:28.340404",
     "exception": false,
     "start_time": "2023-08-12T06:46:28.324068",
     "status": "completed"
    },
    "tags": []
   },
   "outputs": [],
   "source": [
    "def tranform(x):\n",
    "    x_reshape = []\n",
    "    for e in x:\n",
    "        x_reshape.append(e.reshape(28,28,1))\n",
    "    x_reshape = np.array(x_reshape)\n",
    "    return x_reshape"
   ]
  },
  {
   "cell_type": "code",
   "execution_count": 11,
   "id": "66bbcd49",
   "metadata": {
    "execution": {
     "iopub.execute_input": "2023-08-12T06:46:28.354212Z",
     "iopub.status.busy": "2023-08-12T06:46:28.353865Z",
     "iopub.status.idle": "2023-08-12T06:46:28.451442Z",
     "shell.execute_reply": "2023-08-12T06:46:28.449960Z"
    },
    "papermill": {
     "duration": 0.107096,
     "end_time": "2023-08-12T06:46:28.453719",
     "exception": false,
     "start_time": "2023-08-12T06:46:28.346623",
     "status": "completed"
    },
    "tags": []
   },
   "outputs": [
    {
     "name": "stdout",
     "output_type": "stream",
     "text": [
      "(42000, 28, 28, 1)\n"
     ]
    }
   ],
   "source": [
    "X = tranform(X)\n",
    "print(X.shape)"
   ]
  },
  {
   "cell_type": "code",
   "execution_count": 12,
   "id": "8c1a6694",
   "metadata": {
    "execution": {
     "iopub.execute_input": "2023-08-12T06:46:28.467246Z",
     "iopub.status.busy": "2023-08-12T06:46:28.466921Z",
     "iopub.status.idle": "2023-08-12T06:46:28.520023Z",
     "shell.execute_reply": "2023-08-12T06:46:28.518626Z"
    },
    "papermill": {
     "duration": 0.062585,
     "end_time": "2023-08-12T06:46:28.522463",
     "exception": false,
     "start_time": "2023-08-12T06:46:28.459878",
     "status": "completed"
    },
    "tags": []
   },
   "outputs": [],
   "source": [
    "X_train, X_valid, y_train, y_valid = train_test_split(X, y, test_size=0.33, random_state=42)"
   ]
  },
  {
   "cell_type": "code",
   "execution_count": 13,
   "id": "f5406543",
   "metadata": {
    "execution": {
     "iopub.execute_input": "2023-08-12T06:46:28.536367Z",
     "iopub.status.busy": "2023-08-12T06:46:28.535951Z",
     "iopub.status.idle": "2023-08-12T06:46:28.542892Z",
     "shell.execute_reply": "2023-08-12T06:46:28.541100Z"
    },
    "papermill": {
     "duration": 0.016433,
     "end_time": "2023-08-12T06:46:28.545071",
     "exception": false,
     "start_time": "2023-08-12T06:46:28.528638",
     "status": "completed"
    },
    "tags": []
   },
   "outputs": [],
   "source": [
    "class myCallback(tf.keras.callbacks.Callback):\n",
    "  def on_epoch_end(self, epoch, logs={}):\n",
    "    if(logs.get('accuracy')== 1.00):\n",
    "      print(\"\\nReached 100% accuracy so cancelling training!\")\n",
    "      self.model.stop_training = True\n",
    "\n",
    "callbacks = myCallback()"
   ]
  },
  {
   "cell_type": "code",
   "execution_count": 14,
   "id": "0fcbc5c6",
   "metadata": {
    "execution": {
     "iopub.execute_input": "2023-08-12T06:46:28.559063Z",
     "iopub.status.busy": "2023-08-12T06:46:28.558677Z",
     "iopub.status.idle": "2023-08-12T06:46:28.776914Z",
     "shell.execute_reply": "2023-08-12T06:46:28.775382Z"
    },
    "papermill": {
     "duration": 0.228047,
     "end_time": "2023-08-12T06:46:28.779444",
     "exception": false,
     "start_time": "2023-08-12T06:46:28.551397",
     "status": "completed"
    },
    "tags": []
   },
   "outputs": [],
   "source": [
    "\n",
    "# Define the model\n",
    "model = tf.keras.models.Sequential([\n",
    "                                                         \n",
    "  # Add convolutions and max pooling\n",
    "  tf.keras.layers.Conv2D(32, (3,3), activation='relu', input_shape=(28, 28, 1)),\n",
    "  tf.keras.layers.MaxPooling2D(2, 2),\n",
    "  tf.keras.layers.Conv2D(32, (3,3), activation='relu'),\n",
    "  tf.keras.layers.MaxPooling2D(2,2),\n",
    "\n",
    "  # Add the same layers as before\n",
    "  tf.keras.layers.Flatten(),\n",
    "  tf.keras.layers.Dense(128, activation='relu'),\n",
    "  tf.keras.layers.Dense(10, activation='softmax')\n",
    "])"
   ]
  },
  {
   "cell_type": "code",
   "execution_count": 15,
   "id": "e82476f3",
   "metadata": {
    "execution": {
     "iopub.execute_input": "2023-08-12T06:46:28.794089Z",
     "iopub.status.busy": "2023-08-12T06:46:28.793725Z",
     "iopub.status.idle": "2023-08-12T06:46:28.826616Z",
     "shell.execute_reply": "2023-08-12T06:46:28.824807Z"
    },
    "papermill": {
     "duration": 0.043187,
     "end_time": "2023-08-12T06:46:28.829005",
     "exception": false,
     "start_time": "2023-08-12T06:46:28.785818",
     "status": "completed"
    },
    "tags": []
   },
   "outputs": [
    {
     "name": "stdout",
     "output_type": "stream",
     "text": [
      "Model: \"sequential\"\n",
      "_________________________________________________________________\n",
      " Layer (type)                Output Shape              Param #   \n",
      "=================================================================\n",
      " conv2d (Conv2D)             (None, 26, 26, 32)        320       \n",
      "                                                                 \n",
      " max_pooling2d (MaxPooling2D  (None, 13, 13, 32)       0         \n",
      " )                                                               \n",
      "                                                                 \n",
      " conv2d_1 (Conv2D)           (None, 11, 11, 32)        9248      \n",
      "                                                                 \n",
      " max_pooling2d_1 (MaxPooling  (None, 5, 5, 32)         0         \n",
      " 2D)                                                             \n",
      "                                                                 \n",
      " flatten (Flatten)           (None, 800)               0         \n",
      "                                                                 \n",
      " dense (Dense)               (None, 128)               102528    \n",
      "                                                                 \n",
      " dense_1 (Dense)             (None, 10)                1290      \n",
      "                                                                 \n",
      "=================================================================\n",
      "Total params: 113,386\n",
      "Trainable params: 113,386\n",
      "Non-trainable params: 0\n",
      "_________________________________________________________________\n"
     ]
    }
   ],
   "source": [
    "# Print the model summary\n",
    "model.summary()"
   ]
  },
  {
   "cell_type": "code",
   "execution_count": 16,
   "id": "1f1c38f1",
   "metadata": {
    "execution": {
     "iopub.execute_input": "2023-08-12T06:46:28.845856Z",
     "iopub.status.busy": "2023-08-12T06:46:28.845186Z",
     "iopub.status.idle": "2023-08-12T06:46:28.861144Z",
     "shell.execute_reply": "2023-08-12T06:46:28.860251Z"
    },
    "papermill": {
     "duration": 0.026762,
     "end_time": "2023-08-12T06:46:28.863405",
     "exception": false,
     "start_time": "2023-08-12T06:46:28.836643",
     "status": "completed"
    },
    "tags": []
   },
   "outputs": [],
   "source": [
    "# Use same settings\n",
    "model.compile(optimizer='adam', loss='sparse_categorical_crossentropy', metrics=['accuracy'])"
   ]
  },
  {
   "cell_type": "code",
   "execution_count": 17,
   "id": "ed058c8f",
   "metadata": {
    "execution": {
     "iopub.execute_input": "2023-08-12T06:46:28.880414Z",
     "iopub.status.busy": "2023-08-12T06:46:28.880037Z",
     "iopub.status.idle": "2023-08-12T06:53:38.884384Z",
     "shell.execute_reply": "2023-08-12T06:53:38.883682Z"
    },
    "papermill": {
     "duration": 430.015164,
     "end_time": "2023-08-12T06:53:38.886072",
     "exception": false,
     "start_time": "2023-08-12T06:46:28.870908",
     "status": "completed"
    },
    "tags": []
   },
   "outputs": [
    {
     "name": "stdout",
     "output_type": "stream",
     "text": [
      "\n",
      "MODEL TRAINING:\n",
      "Epoch 1/50\n",
      "880/880 [==============================] - 12s 13ms/step - loss: 0.2136 - accuracy: 0.9357\n",
      "Epoch 2/50\n",
      "880/880 [==============================] - 12s 13ms/step - loss: 0.0654 - accuracy: 0.9795\n",
      "Epoch 3/50\n",
      "880/880 [==============================] - 12s 13ms/step - loss: 0.0438 - accuracy: 0.9857\n",
      "Epoch 4/50\n",
      "880/880 [==============================] - 12s 13ms/step - loss: 0.0319 - accuracy: 0.9892\n",
      "Epoch 5/50\n",
      "880/880 [==============================] - 12s 13ms/step - loss: 0.0247 - accuracy: 0.9923\n",
      "Epoch 6/50\n",
      "880/880 [==============================] - 12s 13ms/step - loss: 0.0190 - accuracy: 0.9933\n",
      "Epoch 7/50\n",
      "880/880 [==============================] - 11s 13ms/step - loss: 0.0163 - accuracy: 0.9943\n",
      "Epoch 8/50\n",
      "880/880 [==============================] - 12s 13ms/step - loss: 0.0118 - accuracy: 0.9961\n",
      "Epoch 9/50\n",
      "880/880 [==============================] - 12s 13ms/step - loss: 0.0102 - accuracy: 0.9964\n",
      "Epoch 10/50\n",
      "880/880 [==============================] - 11s 13ms/step - loss: 0.0079 - accuracy: 0.9972\n",
      "Epoch 11/50\n",
      "880/880 [==============================] - 12s 13ms/step - loss: 0.0080 - accuracy: 0.9973\n",
      "Epoch 12/50\n",
      "880/880 [==============================] - 11s 13ms/step - loss: 0.0082 - accuracy: 0.9973\n",
      "Epoch 13/50\n",
      "880/880 [==============================] - 11s 13ms/step - loss: 0.0062 - accuracy: 0.9977\n",
      "Epoch 14/50\n",
      "880/880 [==============================] - 12s 13ms/step - loss: 0.0073 - accuracy: 0.9975\n",
      "Epoch 15/50\n",
      "880/880 [==============================] - 12s 13ms/step - loss: 0.0047 - accuracy: 0.9985\n",
      "Epoch 16/50\n",
      "880/880 [==============================] - 12s 13ms/step - loss: 0.0044 - accuracy: 0.9986\n",
      "Epoch 17/50\n",
      "880/880 [==============================] - 11s 13ms/step - loss: 0.0034 - accuracy: 0.9991\n",
      "Epoch 18/50\n",
      "880/880 [==============================] - 11s 13ms/step - loss: 0.0064 - accuracy: 0.9979\n",
      "Epoch 19/50\n",
      "880/880 [==============================] - 12s 13ms/step - loss: 0.0030 - accuracy: 0.9990\n",
      "Epoch 20/50\n",
      "880/880 [==============================] - 12s 13ms/step - loss: 0.0051 - accuracy: 0.9984\n",
      "Epoch 21/50\n",
      "880/880 [==============================] - 12s 13ms/step - loss: 0.0040 - accuracy: 0.9986\n",
      "Epoch 22/50\n",
      "880/880 [==============================] - 12s 13ms/step - loss: 0.0034 - accuracy: 0.9987\n",
      "Epoch 23/50\n",
      "880/880 [==============================] - 12s 13ms/step - loss: 0.0047 - accuracy: 0.9988\n",
      "Epoch 24/50\n",
      "880/880 [==============================] - 12s 13ms/step - loss: 9.0520e-04 - accuracy: 0.9996\n",
      "Epoch 25/50\n",
      "880/880 [==============================] - 12s 13ms/step - loss: 0.0045 - accuracy: 0.9987\n",
      "Epoch 26/50\n",
      "880/880 [==============================] - 12s 13ms/step - loss: 0.0066 - accuracy: 0.9979\n",
      "Epoch 27/50\n",
      "880/880 [==============================] - 12s 13ms/step - loss: 0.0015 - accuracy: 0.9995\n",
      "Epoch 28/50\n",
      "880/880 [==============================] - 12s 13ms/step - loss: 0.0016 - accuracy: 0.9995\n",
      "Epoch 29/50\n",
      "880/880 [==============================] - 12s 13ms/step - loss: 0.0033 - accuracy: 0.9990\n",
      "Epoch 30/50\n",
      "880/880 [==============================] - 12s 13ms/step - loss: 0.0033 - accuracy: 0.9991\n",
      "Epoch 31/50\n",
      "880/880 [==============================] - 12s 13ms/step - loss: 0.0021 - accuracy: 0.9993\n",
      "Epoch 32/50\n",
      "880/880 [==============================] - 12s 13ms/step - loss: 0.0028 - accuracy: 0.9990\n",
      "Epoch 33/50\n",
      "880/880 [==============================] - 12s 13ms/step - loss: 0.0046 - accuracy: 0.9986\n",
      "Epoch 34/50\n",
      "880/880 [==============================] - 12s 13ms/step - loss: 0.0037 - accuracy: 0.9989\n",
      "Epoch 35/50\n",
      "880/880 [==============================] - 11s 13ms/step - loss: 2.1094e-04 - accuracy: 0.9999\n",
      "Epoch 36/50\n",
      "880/880 [==============================] - 12s 13ms/step - loss: 1.2489e-04 - accuracy: 1.0000\n",
      "Epoch 37/50\n",
      "879/880 [============================>.] - ETA: 0s - loss: 8.2040e-06 - accuracy: 1.0000\n",
      "Reached 100% accuracy so cancelling training!\n",
      "880/880 [==============================] - 12s 13ms/step - loss: 8.2005e-06 - accuracy: 1.0000\n"
     ]
    },
    {
     "data": {
      "text/plain": [
       "<keras.callbacks.History at 0x7cf4d4629cf0>"
      ]
     },
     "execution_count": 17,
     "metadata": {},
     "output_type": "execute_result"
    }
   ],
   "source": [
    "# Train the model\n",
    "print(f'\\nMODEL TRAINING:')\n",
    "model.fit(X_train, y_train, epochs=50, callbacks=[callbacks])"
   ]
  },
  {
   "cell_type": "code",
   "execution_count": 18,
   "id": "1419ceb3",
   "metadata": {
    "execution": {
     "iopub.execute_input": "2023-08-12T06:53:39.866025Z",
     "iopub.status.busy": "2023-08-12T06:53:39.865344Z",
     "iopub.status.idle": "2023-08-12T06:53:42.277370Z",
     "shell.execute_reply": "2023-08-12T06:53:42.276448Z"
    },
    "papermill": {
     "duration": 2.872842,
     "end_time": "2023-08-12T06:53:42.279258",
     "exception": false,
     "start_time": "2023-08-12T06:53:39.406416",
     "status": "completed"
    },
    "tags": []
   },
   "outputs": [
    {
     "name": "stdout",
     "output_type": "stream",
     "text": [
      "434/434 [==============================] - 2s 5ms/step - loss: 0.0568 - accuracy: 0.9905\n"
     ]
    },
    {
     "data": {
      "text/plain": [
       "[0.056812819093465805, 0.990548312664032]"
      ]
     },
     "execution_count": 18,
     "metadata": {},
     "output_type": "execute_result"
    }
   ],
   "source": [
    "model.evaluate(X_valid, y_valid)"
   ]
  },
  {
   "cell_type": "code",
   "execution_count": 19,
   "id": "baf6172e",
   "metadata": {
    "execution": {
     "iopub.execute_input": "2023-08-12T06:53:43.279953Z",
     "iopub.status.busy": "2023-08-12T06:53:43.279223Z",
     "iopub.status.idle": "2023-08-12T06:53:48.216798Z",
     "shell.execute_reply": "2023-08-12T06:53:48.215429Z"
    },
    "papermill": {
     "duration": 5.478147,
     "end_time": "2023-08-12T06:53:48.219444",
     "exception": false,
     "start_time": "2023-08-12T06:53:42.741297",
     "status": "completed"
    },
    "tags": []
   },
   "outputs": [
    {
     "name": "stdout",
     "output_type": "stream",
     "text": [
      "875/875 [==============================] - 4s 5ms/step\n"
     ]
    }
   ],
   "source": [
    "test_digit = tranform(test_digit.to_numpy())\n",
    "prediction_digit = model.predict(test_digit)"
   ]
  },
  {
   "cell_type": "code",
   "execution_count": 20,
   "id": "0014937e",
   "metadata": {
    "execution": {
     "iopub.execute_input": "2023-08-12T06:53:49.146526Z",
     "iopub.status.busy": "2023-08-12T06:53:49.145928Z",
     "iopub.status.idle": "2023-08-12T06:53:49.217319Z",
     "shell.execute_reply": "2023-08-12T06:53:49.215872Z"
    },
    "papermill": {
     "duration": 0.533679,
     "end_time": "2023-08-12T06:53:49.220148",
     "exception": false,
     "start_time": "2023-08-12T06:53:48.686469",
     "status": "completed"
    },
    "tags": []
   },
   "outputs": [],
   "source": [
    "pr = []\n",
    "for e in prediction_digit:\n",
    "    pr.append(np.argmax(e))"
   ]
  },
  {
   "cell_type": "code",
   "execution_count": 21,
   "id": "e7ce36a4",
   "metadata": {
    "execution": {
     "iopub.execute_input": "2023-08-12T06:53:50.201346Z",
     "iopub.status.busy": "2023-08-12T06:53:50.200631Z",
     "iopub.status.idle": "2023-08-12T06:53:50.291846Z",
     "shell.execute_reply": "2023-08-12T06:53:50.290564Z"
    },
    "papermill": {
     "duration": 0.552434,
     "end_time": "2023-08-12T06:53:50.294254",
     "exception": false,
     "start_time": "2023-08-12T06:53:49.741820",
     "status": "completed"
    },
    "tags": []
   },
   "outputs": [
    {
     "name": "stdout",
     "output_type": "stream",
     "text": [
      "Submission saved\n"
     ]
    }
   ],
   "source": [
    "submission = pd.DataFrame({\"ImageId\": sample[\"ImageId\"] ,\"Label\": pr})\n",
    "\n",
    "submission.to_csv('/kaggle/working/submission.csv', index=False)\n",
    "\n",
    "print(\"Submission saved\")"
   ]
  },
  {
   "cell_type": "code",
   "execution_count": null,
   "id": "e719e785",
   "metadata": {
    "papermill": {
     "duration": 0.523582,
     "end_time": "2023-08-12T06:53:51.282902",
     "exception": false,
     "start_time": "2023-08-12T06:53:50.759320",
     "status": "completed"
    },
    "tags": []
   },
   "outputs": [],
   "source": []
  }
 ],
 "metadata": {
  "kernelspec": {
   "display_name": "Python 3",
   "language": "python",
   "name": "python3"
  },
  "language_info": {
   "codemirror_mode": {
    "name": "ipython",
    "version": 3
   },
   "file_extension": ".py",
   "mimetype": "text/x-python",
   "name": "python",
   "nbconvert_exporter": "python",
   "pygments_lexer": "ipython3",
   "version": "3.10.12"
  },
  "papermill": {
   "default_parameters": {},
   "duration": 469.679267,
   "end_time": "2023-08-12T06:53:53.773615",
   "environment_variables": {},
   "exception": null,
   "input_path": "__notebook__.ipynb",
   "output_path": "__notebook__.ipynb",
   "parameters": {},
   "start_time": "2023-08-12T06:46:04.094348",
   "version": "2.4.0"
  }
 },
 "nbformat": 4,
 "nbformat_minor": 5
}
